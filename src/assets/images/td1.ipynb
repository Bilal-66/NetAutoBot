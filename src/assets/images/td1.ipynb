{
 "cells": [
  {
   "cell_type": "markdown",
   "id": "657dc4d5",
   "metadata": {},
   "source": [
    "(td:td1)=\n",
    "# Feuille 1 : fonctions\n",
    "\n",
    "- Le symbole $\\blacksquare$ indique les exercices ou questions obligatoires. Commencez pas ceux-là.\n",
    "- Les symboles $\\star$ et $\\star\\star$ indiquent les exercices ou questions de difficulté relative plus importante.\n",
    "\n",
    "**Focus**\n",
    "\n",
    "Fonctions\n",
    "\n",
    "**Compétences**\n",
    "\n",
    "- utiliser une fonction prédéfinie ou existante\n",
    "- définir et écrire la spécification d'une fonction qui réalise un traitement décrit en français, ou qui résout un problème (simple) décrit en français  \n",
    "- définir et écrire des appels simples (tests unitaires) \n",
    "- définir et écrire l'implémentation d'une fonction associée à une spécification "
   ]
  },
  {
   "cell_type": "markdown",
   "id": "7c894066",
   "metadata": {},
   "source": [
    "**Rappel de quelques consignes**\n",
    "\n",
    "Dans _cet ordre_ et avec les corrections entre 2 étapes si besoin :\n",
    "\n",
    "1. écriture de la signature de la fonction _docstring_ compris\n",
    "3. écriture d'au moins un appel simple ou un test unitaire\n",
    "4. écriture du corps\n",
    "5. exécution des tests unitaires\n",
    "6. écriture des appels voulus  \n",
    "7. exécution des appels voulus\n",
    "\n",
    "\n",
    "_Se souvenir_ :\n",
    "\n",
    "- Séparer les entrées-sorties des traitements !    \n",
    "- Réduire au minimum l'utilisation des `input()` (les entrées au clavier) et des `print()` (les sorties à l'écran).  \n",
    "- Utiliser des identifiants différents pour les paramètres formels et effectifs, respectivement dans la définition et les appels."
   ]
  },
  {
   "cell_type": "markdown",
   "id": "4daa95a7",
   "metadata": {},
   "source": [
    "## Objectif 10"
   ]
  },
  {
   "cell_type": "markdown",
   "id": "54a91aac",
   "metadata": {},
   "source": [
    "(exo:suites)= \n",
    "### $\\blacksquare$ Exercice \n",
    "\n",
    "On rappelle quelques suites et séries numériques classiques.\n",
    "\n",
    "-   La somme des $n$ premiers entiers\n",
    "    $s_1(n) = 1 + 2 + \\cdots + (n-1) + n = \\sum_{k=1}^{n} k$ ;\n",
    "\n",
    "-   La suite arithmético-géométrique $u_{n+1} = u_n/3 + 2$ avec $u_0=1$.\n",
    "\n",
    "-   La suite de Fibonacci $u_{n+1} = u_{n}+ u_{n-1}$ et $u_0=u_1=1$.\n",
    "\n",
    "1.  Pour chacune de ces suites, écrire l'algorithme qui demande\n",
    "    et lit une valeur de $n$ entrée au clavier, calcule le $n$-ième\n",
    "    terme de la suite puis l'affiche à l'écran.\n",
    "2.  Écrire des fonctions (en-tête, appel, corps) qui calculent et\n",
    "    retournent le $n$-ième terme des suites précédentes. L'appel\n",
    "    incluera les phases d'entrées et de sorties de l'algorithme\n",
    "    principal précédent."
   ]
  },
  {
   "cell_type": "markdown",
   "id": "3269751b",
   "metadata": {},
   "source": [
    "### Exercice\n",
    "\n",
    "1. $\\blacksquare$ Définir et écrire une fonction `est_rectangle()` qui vérifie si un triangle est rectangle. Aucune hypothèse est effectuée sur les paramètres de ce traitement.\n",
    "2. Ecrire un ensemble de tests unitaires adaptés. Justifier vos choix."
   ]
  },
  {
   "cell_type": "code",
   "execution_count": 150,
   "id": "9f0868c4",
   "metadata": {},
   "outputs": [
    {
     "data": {
      "text/plain": [
       "False"
      ]
     },
     "execution_count": 150,
     "metadata": {},
     "output_type": "execute_result"
    }
   ],
   "source": [
    "def est_rectangle(longueur:float, largeur :float,h :float)-> bool:\n",
    "    if h*h == longueur * longueur+ largeur * largeur :\n",
    "        return True\n",
    "    \n",
    "    return  False \n",
    "est_rectangle(3,5,4)"
   ]
  },
  {
   "cell_type": "markdown",
   "id": "d44cdc29",
   "metadata": {
    "jp-MarkdownHeadingCollapsed": true
   },
   "source": [
    "\n",
    "### Exercice\n",
    "\n",
    "La valeur de factorielle (de) $n$, où $n$ est un entier positif, est :\n",
    "$n ! = 1 \\times 2 \\times \\cdots \\ \\times (n-1) \\times n$. On choisit\n",
    "$0 ! = 1$.\n",
    "\n",
    "2.  $\\blacksquare$ Écrire la fonction `factorielle()` qui calcule et retourne $n!$.\n",
    "3.  La fonction `factorial()` du module `math` effectue le même calcul. Utiliser cette fonction pour définir et coder des tests unitaires de votrefonction `factorielle()`.\n",
    "4.  Utiliser la fonction `factorielle()` pour écrire des fonctions qui\n",
    "    calculent les quantités suivantes.\n",
    "\n",
    "    1.  Le nombre d'arrangements (listes ordonnées) de $k$ valeurs\n",
    "        prises dans un ensemble de $n$ valeurs est :\n",
    "        $\\mathcal{A}_n^k = {n\n",
    "                  !}/{(n-k)!}, (k \\le n)$.\n",
    "    2.  Le nombre de combinaisons (listes non ordonnées) de $k$ valeurs\n",
    "        prises dans un ensemble de $n$ valeurs est :\n",
    "        $\\left(_k^n\\right) =\n",
    "                {\\mathcal{A}_n^k}/{k!}$, $(k \\le n)$."
   ]
  },
  {
   "cell_type": "code",
   "execution_count": 100,
   "id": "06514b31",
   "metadata": {},
   "outputs": [
    {
     "data": {
      "text/plain": [
       "15.0"
      ]
     },
     "execution_count": 100,
     "metadata": {},
     "output_type": "execute_result"
    }
   ],
   "source": [
    "##1\n",
    "from math import factorial\n",
    "def factorielle(n:int)->int:\n",
    "   if n == 0:\n",
    "       return 1\n",
    "   else :\n",
    "       return n* factorielle(n-1)\n",
    "factorielle(5)\n",
    "##2\n",
    "assert factorial(5) == factorielle(5)\n",
    "##3.1\n",
    "def arrangement(k :int ,n:int)->int:\n",
    "    if k<= n:\n",
    "\n",
    "       a=factorielle(n)/factorielle(n-k)\n",
    "       return a\n",
    "    else :\n",
    "        print(\"la valeur de k est superieure à celle de n erreur\")\n",
    "\n",
    "arrangement(2,6)\n",
    "##3.2\n",
    "def combinaisons(k:int,n:int)->int:\n",
    "    if k<= n:\n",
    "\n",
    "       comb=arrangement(k,n)/factorielle(k)\n",
    "       return comb\n",
    "    else :\n",
    "        print(\"la valeur de k est superieure à celle de n erreur\")\n",
    "combinaisons(2,6)\n"
   ]
  },
  {
   "cell_type": "markdown",
   "id": "576cc402",
   "metadata": {
    "tags": []
   },
   "source": [
    "### Exercice (Codage ASCII) \n",
    "\n",
    "L'ASCII est un codage de caractères qui\n",
    "définit 128 codes sur 7 bits. Chaque code correspond à un caractère :\n",
    "chiffres, lettres, symboles mathématiques et de ponctuation. En Python,\n",
    "la fonction `ord()` retourne le code ASCII d'un caractère fourni en\n",
    "argument. La fonction `chr()` retourne le caractère associé à un code\n",
    "donné.\n",
    "\n",
    "Ecrire un programme qui affiche la table des 128 codes ASCII."
   ]
  },
  {
   "cell_type": "code",
   "execution_count": 71,
   "id": "117d5743",
   "metadata": {
    "scrolled": false
   },
   "outputs": [
    {
     "name": "stdout",
     "output_type": "stream",
     "text": [
      "! -> 33,\n",
      "\" -> 34,\n",
      "# -> 35,\n",
      "$ -> 36,\n",
      "% -> 37,\n",
      "& -> 38,\n",
      "' -> 39,\n",
      "( -> 40,\n",
      ") -> 41,\n",
      "* -> 42,\n",
      "+ -> 43,\n",
      ", -> 44,\n",
      "- -> 45,\n",
      ". -> 46,\n",
      "/ -> 47,\n",
      "0 -> 48,\n",
      "1 -> 49,\n",
      "2 -> 50,\n",
      "3 -> 51,\n",
      "4 -> 52,\n",
      "5 -> 53,\n",
      "6 -> 54,\n",
      "7 -> 55,\n",
      "8 -> 56,\n",
      "9 -> 57,\n",
      ": -> 58,\n",
      "; -> 59,\n",
      "< -> 60,\n",
      "= -> 61,\n",
      "> -> 62,\n",
      "? -> 63,\n",
      "@ -> 64,\n",
      "A -> 65,\n",
      "B -> 66,\n",
      "C -> 67,\n",
      "D -> 68,\n",
      "E -> 69,\n",
      "F -> 70,\n",
      "G -> 71,\n",
      "H -> 72,\n",
      "I -> 73,\n",
      "J -> 74,\n",
      "K -> 75,\n",
      "L -> 76,\n",
      "M -> 77,\n",
      "N -> 78,\n",
      "O -> 79,\n",
      "P -> 80,\n",
      "Q -> 81,\n",
      "R -> 82,\n",
      "S -> 83,\n",
      "T -> 84,\n",
      "U -> 85,\n",
      "V -> 86,\n",
      "W -> 87,\n",
      "X -> 88,\n",
      "Y -> 89,\n",
      "Z -> 90,\n",
      "[ -> 91,\n",
      "\\ -> 92,\n",
      "] -> 93,\n",
      "^ -> 94,\n",
      "_ -> 95,\n",
      "` -> 96,\n",
      "a -> 97,\n",
      "b -> 98,\n",
      "c -> 99,\n",
      "d -> 100,\n",
      "e -> 101,\n",
      "f -> 102,\n",
      "g -> 103,\n",
      "h -> 104,\n",
      "i -> 105,\n",
      "j -> 106,\n",
      "k -> 107,\n",
      "l -> 108,\n",
      "m -> 109,\n",
      "n -> 110,\n",
      "o -> 111,\n",
      "p -> 112,\n",
      "q -> 113,\n",
      "r -> 114,\n",
      "s -> 115,\n",
      "t -> 116,\n",
      "u -> 117,\n",
      "v -> 118,\n",
      "w -> 119,\n",
      "x -> 120,\n",
      "y -> 121,\n",
      "z -> 122,\n",
      "{ -> 123,\n",
      "| -> 124,\n",
      "} -> 125,\n",
      "~ -> 126,\n",
      " -> 127,\n"
     ]
    }
   ],
   "source": [
    "for i in range(33,128):\n",
    "    \n",
    "    \n",
    "    codes=chr(i)\n",
    "    \n",
    "    print(codes ,\"->\",ord(codes),end=\",\")\n",
    "    print(\"\")\n"
   ]
  },
  {
   "cell_type": "markdown",
   "id": "9705f133",
   "metadata": {},
   "source": [
    "### $\\blacksquare$ Exercice \n",
    "\n",
    "Écrire une fonction `moy()` qui calcule et retourne la moyenne de 4 valeurs flottantes. Ces 4 valeurs sont entrées au clavier et stockées dans un tableau."
   ]
  },
  {
   "cell_type": "code",
   "execution_count": 106,
   "id": "44d1d05f",
   "metadata": {},
   "outputs": [
    {
     "data": {
      "text/plain": [
       "21.75"
      ]
     },
     "execution_count": 106,
     "metadata": {},
     "output_type": "execute_result"
    }
   ],
   "source": [
    "def moy()->int:\n",
    "    val1=int(input(\"val1\"))\n",
    "    val2=int(input(\"val2\"))\n",
    "    val3=int(input(\"val3\"))\n",
    "    val4=int(input(\"val4\"))\n",
    "    moyenne = (val1 + val2 + val3 +val4)/4\n",
    "    return moyenne\n",
    "moy()"
   ]
  },
  {
   "cell_type": "markdown",
   "id": "f498b027",
   "metadata": {},
   "source": [
    "### $\\blacksquare$ Exercice \n",
    "\n",
    "Ecrire une fonctions `tabup()` qui vérifie si les `n` valeurs d'un tableau sont rangées par ordre croissant. Ces valeurs sont des entiers."
   ]
  },
  {
   "cell_type": "code",
   "execution_count": 111,
   "id": "dd291b18",
   "metadata": {},
   "outputs": [
    {
     "data": {
      "text/plain": [
       "False"
      ]
     },
     "execution_count": 111,
     "metadata": {},
     "output_type": "execute_result"
    }
   ],
   "source": [
    "def tabup(tab : list[int],n :int)-> bool:\n",
    "    for i in range(n):\n",
    "        if tab[i]>tab[i+1]:\n",
    "            return False\n",
    "        else:\n",
    "            return True\n",
    "tab=[3,2,5,6,7]\n",
    "tabup(tab,5)"
   ]
  },
  {
   "cell_type": "markdown",
   "id": "40fb5035",
   "metadata": {
    "jp-MarkdownHeadingCollapsed": true,
    "tags": []
   },
   "source": [
    "(exo:tablst)=\n",
    "### $\\blacksquare$ Exercice\n",
    "\n",
    "Soit `t` un tableau 1D\n",
    "d'entiers de taille `n` arbitraire. Voici quelques traitements\n",
    "classiques de ces tableaux et les fonctions associées.\n",
    "\n",
    "1.  `max_tab()` qui calcule et retourne la valeur maximale d'un tableau 1D.\n",
    "\n",
    "2.  `max_ind_max()` qui calcule et retourne le plus grand indice de la\n",
    "    valeur maximale d'un tableau 1D.\n",
    "\n",
    "3.  `min_ind_max()` : une modification de la fonction précédente qui\n",
    "    calcule et retourne le plus petit indice de la valeur maximale d'un\n",
    "    tableau 1D.\n",
    "\n",
    "Pour chacune de ces fonctions, deux questions.\n",
    "\n",
    "1.   Proposer des solutions itératives alternatives (`for` vs.\n",
    "    `while`) lorsque qu'elles conduisent à des traitements différents.\n",
    "\n",
    "2.  Tests unitaires : expliciter différents tableaux `t` qui\n",
    "    correspondent, le cas échéant, à des cas particuliers de traitement.\n",
    "    Les tester pour valider vos solutions."
   ]
  },
  {
   "cell_type": "code",
   "execution_count": 147,
   "id": "13a3ddae",
   "metadata": {},
   "outputs": [
    {
     "data": {
      "text/plain": [
       "3"
      ]
     },
     "execution_count": 147,
     "metadata": {},
     "output_type": "execute_result"
    }
   ],
   "source": [
    "##1\n",
    "def max_tabfor(tab: list[int],n:int ) -> int:\n",
    "    max=tab[0]\n",
    "    for i in range(n):\n",
    "        if tab[i]>max:\n",
    "            max=tab[i]\n",
    "    return max\n",
    "tab=[2,3,5,3,4]\n",
    "\n",
    "def max_tabwhile(tab: list[int],n:int ) -> int:\n",
    "    max=tab[0]\n",
    "    i=0\n",
    "    while i<n:\n",
    "        \n",
    "        if tab[i]>max:\n",
    "            max=tab[i] \n",
    "        i+=1\n",
    "    return max\n",
    "assert max_tabfor(tab,5)==max_tabwhile(tab,5)\n",
    "\n",
    "tab=[2,5,2,3,5]\n",
    "\n",
    "\n",
    "def max_ind_maxfor(tab: list[int],n:int ) -> int:\n",
    "    maxind=0\n",
    "    for i in range(n):\n",
    "       \n",
    "        if tab[i]>=tab[maxind]:\n",
    "            maxind=i\n",
    "    return maxind\n",
    "def max_ind_maxwhile(tab: list[int],n:int ) -> int:\n",
    "    maxind=0\n",
    "    i=0\n",
    "    while i<n:\n",
    "        \n",
    "        if tab[i]>=tab[maxind]:\n",
    "            maxind=i \n",
    "        i+=1\n",
    "    return maxind\n",
    "    \n",
    "assert max_ind_maxfor(tab,5)==max_ind_maxwhile(tab,5)\n",
    "def min_ind_maxfor(tab: list[int],n:int ) -> int:\n",
    "    maxind=0\n",
    "    for i in range(n):\n",
    "       \n",
    "        if tab[i]>=tab[maxind]:\n",
    "            maxind=i\n",
    "    for j in range(n):\n",
    "        if tab[j]==tab[maxind]:\n",
    "            \n",
    "            return j\n",
    "tab=[2,2,2,4,4]\n",
    "def min_ind_maxwhile(tab: list[int],n:int ) -> int:\n",
    "    maxind=0\n",
    "    i=0\n",
    "    while i<n:\n",
    "        \n",
    "        if tab[i]>=tab[maxind]:\n",
    "            maxind=i \n",
    "        i+=1\n",
    "    j=0\n",
    "    while j<n:\n",
    "\n",
    "        if tab[j]>=tab[maxind]:\n",
    "            return j  \n",
    "        j+=1          \n",
    "assert min_ind_maxwhile(tab,5)==min_ind_maxfor(tab,5)\n",
    "    "
   ]
  },
  {
   "cell_type": "markdown",
   "id": "0580b280",
   "metadata": {
    "tags": []
   },
   "source": [
    "### $\\blacksquare$ Exercice (extrait d'examen 2017 sans machine)\n",
    "\n",
    "1.  Que calcule la fonction `m` suivante ?\n",
    "\n",
    "```python\n",
    "    def m(s : str, n : int, c : str ) -> int: \n",
    "        ''' role : il calcule le nombre d'occurence du caractere stocké dans c '''\n",
    "        res = 0\n",
    "        for i in range(n): \n",
    "            if s[i] == c: \n",
    "                res = res + 1 \n",
    "        return res\n",
    "```"
   ]
  },
  {
   "cell_type": "markdown",
   "id": "73dd7e04",
   "metadata": {
    "jp-MarkdownHeadingCollapsed": true,
    "tags": []
   },
   "source": [
    "2.  Quel résultat produit l'exécution du code suivant ?\n",
    "\n",
    "```python\n",
    "    t = \"anticonstitutionnellement\" \n",
    "    nba = m(t, len(t), 'a') \n",
    "    nbe = m(t, len(t), 'e') \n",
    "    nbl = m(t, len(t), 'l') \n",
    "    print(len(t), nba, nbe, nbl)\n",
    "```"
   ]
  },
  {
   "cell_type": "markdown",
   "id": "a5af0adc",
   "metadata": {},
   "source": [
    "le resultat est :\n",
    "25,1,3,2"
   ]
  },
  {
   "cell_type": "markdown",
   "id": "b0c2250a",
   "metadata": {
    "jp-MarkdownHeadingCollapsed": true,
    "tags": []
   },
   "source": [
    "(que:mmavecm)=\n",
    "3.  Utiliser la fonction `m` pour écrire une fonction `mm` qui identifie\n",
    "    et retourne la lettre ayant le maximum d'occurrences dans une chaîne\n",
    "    de caractères de longueur `n`. Si plusieurs lettres conviennent,\n",
    "    l'algorithme identifiera celle dont l'occurrence est la plus tardive\n",
    "    dans `s`. Par exemple `'o'` dans `'toto'`."
   ]
  },
  {
   "cell_type": "markdown",
   "id": "64163170",
   "metadata": {
    "jp-MarkdownHeadingCollapsed": true,
    "tags": []
   },
   "source": [
    "4.  Écrire le code qui utilise `mm` et fournit l'affichage suivant.\n",
    "\n",
    ">    t est la lettre qui apparaît le plus ( 5 fois) dans anticonstitutionnellement   \n",
    ">    o est la lettre qui apparaît le plus ( 2 fois) dans toto"
   ]
  },
  {
   "cell_type": "markdown",
   "id": "f1a81cc6",
   "metadata": {
    "jp-MarkdownHeadingCollapsed": true,
    "tags": []
   },
   "source": [
    "5.  Modifier `mm` pour que dans le cas d'une occurrence maximale\n",
    "    multiple, l'algorithme identifie la lettre de première occurrence.\n",
    "    Par exemple, `'t'` dans `'toto'`."
   ]
  },
  {
   "cell_type": "code",
   "execution_count": 1,
   "id": "2c1ff91e",
   "metadata": {},
   "outputs": [
    {
     "data": {
      "text/plain": [
       "(3, 'n')"
      ]
     },
     "execution_count": 1,
     "metadata": {},
     "output_type": "execute_result"
    }
   ],
   "source": [
    "\n",
    "def m(s : str, n : int, ) -> int: \n",
    "\n",
    "    res = 0\n",
    "    m=''\n",
    "    idx=-1\n",
    "    maxoccurence=0 \n",
    "    for i in range(n):\n",
    "        c = s[i]\n",
    "        \n",
    "        res=0\n",
    "        for j in range(n):\n",
    "            \n",
    "            if s[j]==c:\n",
    "                res = res + 1\n",
    "                \n",
    "        if res >= maxoccurence:\n",
    "            maxoccurence = res\n",
    "                \n",
    "        \n",
    "\n",
    "    return maxoccurence,s[idx]\n",
    "m(\"nooouvenn\",9)"
   ]
  },
  {
   "cell_type": "markdown",
   "id": "89ab1325",
   "metadata": {
    "jp-MarkdownHeadingCollapsed": true,
    "tags": []
   },
   "source": [
    "6.  Réécrire la fonction `mm` de la\n",
    "    [question](que:mmavecm)\n",
    "    sans utiliser la fonction `m`."
   ]
  },
  {
   "cell_type": "markdown",
   "id": "d1f01f75",
   "metadata": {
    "tags": []
   },
   "source": [
    "### $\\blacksquare$ Exercice\n",
    "\n",
    "Un palindrome est un mot, ou un groupe de mots, dont l'ordre des lettres\n",
    "reste le même qu'on le lise de la droite vers la gauche ou inversement.\n",
    "Des exemples bien connus sont \"été\", \"kayak\", \"mon nom\", \"élu par cette\n",
    "crapule\". Ce dernier permet d'illustrer qu'on ne tient pas compte en\n",
    "général des accents, trémas, cédilles, ni des espaces. Dans cet exercice\n",
    ":\n",
    "\n",
    "-   un mot ou un groupe de mots est représenté par une chaîne de\n",
    "    caractères (`str`),\n",
    "\n",
    "-   ces caractères sont sans accent, tréma, ni cédille : \"ete\"\n",
    "\n",
    "-   les espaces sont considérés comme des caractères : ainsi \"elu par\n",
    "    cette crapule\" n'est pas un palindrome ici.\n",
    "\n",
    "1.  Ecrire une fonction qui teste si un argument est ou non un\n",
    "    palindrome et retourne le booléen correspondant."
   ]
  },
  {
   "cell_type": "markdown",
   "id": "36193f3c",
   "metadata": {
    "jp-MarkdownHeadingCollapsed": true,
    "tags": []
   },
   "source": [
    "### Exercice\n",
    "\n",
    "Rappel : le produit scalaire deux vecteurs orthogonaux est nul.\n",
    "\n",
    "Ecrire les fonctions qui vérifie l'orthogonalité ou non de vecteurs \n",
    "\n",
    "1. de taille 3 \n",
    "2. de taille arbitraire $n$  \n"
   ]
  },
  {
   "cell_type": "markdown",
   "id": "3d0a10ee",
   "metadata": {},
   "source": [
    "## Objectif 20\n",
    "\n",
    "**Remarque :** Proposer les fonctions les plus générales possibles.\n",
    "\n",
    "### Exercice\n",
    "\n",
    "On continue l'exercice [](exo:fact). \n",
    "\n",
    "- Utiliser la fonction `factorielle()` pour écrire des fonctions qui  calculent les quantités suivantes.\n",
    "- En s'inspirant d'un exemple donné au chapitre 1, proposer des\n",
    "représentations graphiques qui illustrent les approximations mentionnées.\n",
    "\n",
    "1. Une approximation de $e \\approx \\sum_{k=0}^n 1/k !$, puis\n",
    "vérifier que l'approximation est d'autant plus précise que $n$\n",
    "est grand.\n",
    "2. La formule de Stirling $n! \\approx \\sqrt{2\\pi n} (n/e)^n$ qui\n",
    "donne un équivalent de la factorielle (et aussi une\n",
    "approximation de $\\pi$), approximation dont on vérifiera la\n",
    "pertinence.\n",
    "3. Même question pour $\\ln(n!) \\approx n\\ln(n)-n$ et des $n$ assez\n",
    "grands.\n"
   ]
  },
  {
   "cell_type": "markdown",
   "id": "526191d3",
   "metadata": {
    "jp-MarkdownHeadingCollapsed": true
   },
   "source": [
    "### Exercice\n",
    "\n",
    "1. Consulter la page wikipedia du [crible d'Eratosthène](https://fr.wikipedia.org/wiki/Crible_d%27Ératosthène)\n",
    "2. Écrire une fonction `est_premier()` qui retourne un booléen qui indique si un nombre entier donné $n$ est\n",
    "premier ou non."
   ]
  },
  {
   "cell_type": "markdown",
   "id": "97879805",
   "metadata": {},
   "source": [
    "### Exercice\n",
    "\n",
    "Écrire une fonction `pgcd()` qui\n",
    "calcule le PGCD de deux entiers naturels. On utilisera l'algorithme\n",
    "d'Euclide.\n",
    "\n",
    "Rappel : l'algorithme d'Euclide utilise la propriété suivante. Le PGCD\n",
    "de $a$ et $b$, $a > b$, est égal à $b$ si le reste $r$ de la division\n",
    "euclidienne de $a$ par $b$ est nul, sinon il vaut le PGCD de $b$ et de\n",
    "$r$. Le PGCD de 2 nombres distincts premiers entre eux (*i.e.* sans\n",
    "diviseur commun autre que 1) est égal à 1. Cet exercice permet d'écrire\n",
    "une version itérative de cet algorithme."
   ]
  },
  {
   "cell_type": "markdown",
   "id": "18031b76",
   "metadata": {
    "jp-MarkdownHeadingCollapsed": true
   },
   "source": [
    "### ($\\star\\star$) Exercice\n",
    "\n",
    "On souhaite évaluer la valeur d'un polynôme de degré $3$,\n",
    "$p_3(x) = a_0 + a_1 x + a_2 x^2 + a_3 x^3$, en des valeurs $x$ arbitraires.\n",
    "\n",
    "1. Écrire une fonction `eval()` qui calcule et retourne $p_3(x)$.\n",
    "2. Ecrire un algorithme qui utilise cette fonction pour des valeurs\n",
    "    entrées au clavier et affiche le résultat à l'écran.\n",
    "4. ($\\star$) Détailler le principe d'un algorithme qui calcule une racine d'un\n",
    "    polynôme sur un intervalle $[a, b]$ donné. La présence d'une racine\n",
    "    *unique* sur $[a, b]$ sera admise MAIS l'existence d'une racine sera\n",
    "    vérifiée par cet algorithme. Introduire un paramètre adapté au\n",
    "    caractère approximatif de la valeur calculée.\n",
    "5.  Écrire un algorithme principal qui effectue cette recherche pour un\n",
    "    polynôme $p_3$ de degré $3$ et un intervalle $[a, b]$ donnés. Tous\n",
    "    les paramètres sont entrés au clavier.\n",
    "6.  ($\\star\\star$) Appliquer cet algorithme pour retrouver, une à une, les racines de\n",
    "    $p(x)=x(x-1)(x-2)$. Ce polynôme sera considéré sous sa forme développée."
   ]
  },
  {
   "cell_type": "markdown",
   "id": "9d57050d",
   "metadata": {
    "tags": []
   },
   "source": [
    "### ($\\star$) Exercice (Algorithme de type Monte-Carlo)\n",
    "\n",
    "On va calculer une approximation de $\\pi$ de façon probabiliste.\n",
    "\n",
    "1.  Ecrire une fonction qui vérifie si un point du plan défini par ses\n",
    "    coordonnées $(x,y)$ appartient à un disque de centre $(a,b)$ et de\n",
    "    rayon $r$.  \n",
    "    Rappel. L'équation du cercle de mêmes caractéristiques est :\n",
    "    $(x-a)^2 + (y-b)^2 = r^2$.\n",
    "\n",
    "2.  Identifier dans la documentation du module python `random` la\n",
    "    fonction adaptée à la génération d'un point aléatoire dans le carré\n",
    "    $[-1, 1] \\times [-1, 1]$.\n",
    "\n",
    "3.  Soit $\\mathcal{C}$ le cercle de centre 0 et de rayon 1. Ecrire une\n",
    "    programme qui génère $n$ points aléatoires situés dans le carré\n",
    "    précédent et calcule le ratio entre les points situés dans le cercle\n",
    "    $\\mathcal{C}$ et $n$.\n",
    "\n",
    "4.  Faire varier $n$ et observer l'évolution de ce ratio.\n",
    "\n",
    "5.  ($\\star$) En déduire une approximation de $\\pi$."
   ]
  },
  {
   "cell_type": "markdown",
   "id": "06cad5f1",
   "metadata": {
    "tags": []
   },
   "source": [
    "### Exercice \n",
    "\n",
    "Ecrire une fonction qui transforme un tableau de 0 et de\n",
    "1 de longueur arbitraire, en l'entier de base 10 qui est codé par ce\n",
    "tableau en représentation de position en base 2 :\n",
    "\n",
    "$$\n",
    "(b_n b_{n-1} \\cdots b_1 b_0)_2 = (\\sum_{i=0}^n b_i \\times\n",
    "  2^i)_{10} \\text{ avec } b_i \\in \\{0, 1\\}.\n",
    "$$"
   ]
  },
  {
   "cell_type": "markdown",
   "id": "8c7e220f",
   "metadata": {},
   "source": [
    "### $\\blacksquare$ Exercice.\n",
    "\n",
    "1.  Écrire un algorithme qui calcule les tables de multiplications entre\n",
    "    entiers compris en 1 et 10, les stocke dans un tableau 2D puis les\n",
    "    affiche. Ainsi la case $(i,j)$ du tableau contient le résultat de\n",
    "    $i \\times j$."
   ]
  },
  {
   "cell_type": "markdown",
   "id": "99c3beff",
   "metadata": {
    "tags": []
   },
   "source": [
    "### Exercice \n",
    "\n",
    "Les fonctions suivantes seront définies et utilisées dans\n",
    "un programme (principal) qui définit des tableaux que vous choisirez\n",
    "pour vérifier la validité de vos traitements. Vous choisirez la\n",
    "structure de donnée la plus adaptée à ces traitements.\n",
    "\n",
    "1.  Ecrire une fonction `est_egal()` qui réalise la comparaison entre\n",
    "    deux tableaux de dimension 1 et retourne le booléen correspondant.\n",
    "    On convient que deux tableaux sont égaux si leurs tailles sont\n",
    "    égales et si leurs valeurs sont égales deux à deux.\n",
    "\n",
    "2.  Ecrire une fonction `nb_communs()` qui retourne le nombre de valeurs\n",
    "    communes entre deux tableaux de dimension 1.\n",
    "\n",
    "3.  Reprendre les 2 questions précédentes pour des tableaux 2D.\n",
    "    L'égalité entre tableaux multi-dimensionnels suppose l'égalité des\n",
    "    dimensions, des tailles deux à deux dans chaque dimension, et des\n",
    "    valeurs deux à deux pour toutes les valeurs du tableau."
   ]
  },
  {
   "cell_type": "markdown",
   "id": "8d1b576d",
   "metadata": {},
   "source": [
    "(exo:verif)=\n",
    "### $\\blacksquare$ Exercice.\n",
    "\n",
    "Ecrire les algorithmes de vérification suivants pour une matrice $M$\n",
    "donnée, carrée de taille $n$ et à valeurs flottantes.\n",
    "\n",
    "1.  $M$ est diagonale ?\n",
    "\n",
    "2.  $M$ est symétrique ?\n",
    "\n",
    "3.  $M$ est égale à l'identité ?\n",
    "\n",
    "4.  $M$ est l'inverse d'une autre matrice donnée $N$ ?"
   ]
  },
  {
   "cell_type": "markdown",
   "id": "6fe2b623",
   "metadata": {
    "tags": []
   },
   "source": [
    "(exo:imnb)=\n",
    "### $\\blacksquare$ Exercice \n",
    "\n",
    "**Note.** Cet exercice est inspiré d'un extrait de sujet d'examen.\n",
    "Il comporte des questions Objectifs 10 et Objectif 20.\n",
    "\n",
    "Une image 2D peut être représentée par un tableau 2D de _pixels_.  \n",
    "Une image \"noir et blanc\" de taille $L \\times C$ est ainsi représentée\n",
    "par un tableau de $L$ lignes et $C$ colonnes, de 0 (pixel blanc) ou de\n",
    "1 (pixel noir).  \n",
    "Les images suivantes sont des exemples d'images 3 $\\times$ 4. "
   ]
  },
  {
   "cell_type": "markdown",
   "id": "a9766650",
   "metadata": {},
   "source": [
    "```{image} fig/3x4-blanc.png\n",
    ":alt: image blanche\n",
    ":height: 20mm\n",
    ":name: 1\n",
    "```\n",
    "```{image} fig/3x4-nb-centre.png\n",
    ":alt: 2 pixels noirs au centre\n",
    ":height: 20mm\n",
    "```\n",
    "```{image} fig/3x4-tri.png\n",
    ":alt: triangle inférieur noir\n",
    ":height: 20mm\n",
    "```"
   ]
  },
  {
   "cell_type": "markdown",
   "id": "3bb74122",
   "metadata": {},
   "source": [
    "L'image blanche (à gauche) est représentée par le tableau de taille $3 \\times\n",
    "4$ (une liste de listes de 0) donné par le code python suivant."
   ]
  },
  {
   "cell_type": "code",
   "execution_count": 1,
   "id": "fb0f76ec",
   "metadata": {},
   "outputs": [
    {
     "name": "stdout",
     "output_type": "stream",
     "text": [
      "[[0, 0, 0, 0], [0, 0, 0, 0], [0, 0, 0, 0]]\n",
      "3 4\n"
     ]
    }
   ],
   "source": [
    "l = 3\n",
    "c = 4\n",
    "t = [[0 for i in range(c)] for j in range(l)]\n",
    "\n",
    "print(t)\n",
    "print(len(t), len(t[0]))"
   ]
  },
  {
   "cell_type": "markdown",
   "id": "e440c61f",
   "metadata": {},
   "source": [
    "#### Premières transformations d'images 3 $\\times$ 4.\n",
    "  \n",
    "1. Ecrire l'algorithme qui transforme l'image blanche (à gauche) en une image noire 3 $\\times$ 4 sans définir un autre tableau.\n",
    "2. Ecrire l'algorithme qui transforme l'image blanche en l'image du centre.\n",
    "3. Ecrire l'algorithme qui transforme l'image blanche en l'image de droite."
   ]
  },
  {
   "cell_type": "markdown",
   "id": "af5e9cbe",
   "metadata": {},
   "source": [
    "#### Fonctions et transformation d'image de taille arbitraire.  \n",
    "\n",
    "On considère la dernière transformation où la partie\n",
    "triangulaire inférieure est noircie. Selon la forme de la matrice, cette\n",
    "partie noircie est un triangle (matrice rectangulaire \"allongée\"\n",
    "horizontalement) ou un trapèze (matrice rectangulaire \"allongée\"\n",
    "verticalement). On va définir cette transformation sous la forme d'une\n",
    "fonction.\n",
    "\n",
    "1. Ecrire l'en-tête de cette fonction `tr()`\n",
    "2. Appliquer cette fonction à l'image blanche de gauche.\n",
    "3. Ecrire le corps de la fonction `tr()`.\n",
    "4. ($\\star$) Définir une image `t2` de taille 4 $\\times$ 8 composée de\n",
    "      lignes alternativement blanche et noire \n",
    "(que:im4)=\n",
    "5.  On applique la fonction `tr()` à cette image. Dessiner \"à la main\" l'image ainsi transformée.\n",
    "6. Ecrire ce traitement à l'aide de la fonction `tr()`\n"
   ]
  },
  {
   "cell_type": "markdown",
   "id": "e342ffd0",
   "metadata": {},
   "source": [
    "#### Analyse d'une image de taille arbitraire.\n",
    "\n",
    "1.  Ecrire une fonction `nbpixblc()` qui compte et retourne le\n",
    "    nombre de pixels blanc d'une image de taille arbitraire\n",
    "\n",
    "2.  Que retourne l'application de cette fonction à l'image (4) de la\n",
    "    question <a href=\"#que:im4\" data-reference-type=\"ref\"\n",
    "    data-reference=\"que:im4\">[que:im4]</a>."
   ]
  },
  {
   "cell_type": "markdown",
   "id": "f347d7b2",
   "metadata": {},
   "source": [
    "### Exercice.\n",
    "\n",
    "De façon similaire à l'[exercice précédent](exo:imnb), on définit des images à\n",
    "niveaux de gris par un tableau 2D d'entiers compris en 0 (noir) et 255\n",
    "(blanc). La taille de l'image $L \\times C$ est arbitraire.  \n",
    "Ecrire les algorithmes des traitements suivants. On pourra commencer en\n",
    "introduisant un tableau supplémentaire pour l'image transformée. Selon\n",
    "les cas, on essaiera ensuite une solution “en place” : la transformation\n",
    "s'effectue sur le tableau de l'image d'origine.\n",
    "\n",
    "1.  Générer le négatif (*reverse video*) d'une image NB ou par niveaux\n",
    "    de gris.\n",
    "\n",
    "2.  Générer une image NB à partir d'une image niveau de gris.\n",
    "\n",
    "3.  Augmenter le contraste de la transformation précédente.  \n",
    "    Principe : fixer un seuil et remplacer les pixels plus clairs que le\n",
    "    seuil par des pixels blancs, et inversement les plus sombres que le\n",
    "    seuil par des pixels noirs.\n",
    "\n",
    "4.  Générer une image miroir vertical (le haut se retrouve en bas et\n",
    "    réciproquement) ou horizontal d'une image NB.\n",
    "\n",
    "5.  Augmenter la luminosité (ou luminance) d'une image à niveau de\n",
    "    gris.  \n",
    "    Principe : ajouter ou retrancher une constante de la valeur des\n",
    "    pixels.\n",
    "\n",
    "6.  Générer les contours significatifs d'une image.  \n",
    "    Principe : on remplace par un pixel noir chaque pixel dont la\n",
    "    variation des valeurs de ses 4 voisins varient au delà d'un certain\n",
    "    seuil, sinon on le remplace par un pixel blanc.\n",
    "\n",
    "7.  Réduire par 2 la taille d'une image à niveau de gris.  \n",
    "    Principe : chaque carré de 2x2 pixels est remplacé par 1 pixel de\n",
    "    valeur la moyenne des pixels du carré."
   ]
  },
  {
   "cell_type": "code",
   "execution_count": null,
   "id": "855c8e82",
   "metadata": {},
   "outputs": [],
   "source": []
  }
 ],
 "metadata": {
  "interpreter": {
   "hash": "31f2aee4e71d21fbe5cf8b01ff0e069b9275f58929596ceb00d14d90e3e16cd6"
  },
  "kernelspec": {
   "display_name": "Python 3 (ipykernel)",
   "language": "python",
   "name": "python3"
  },
  "language_info": {
   "codemirror_mode": {
    "name": "ipython",
    "version": 3
   },
   "file_extension": ".py",
   "mimetype": "text/x-python",
   "name": "python",
   "nbconvert_exporter": "python",
   "pygments_lexer": "ipython3",
   "version": "3.9.13"
  }
 },
 "nbformat": 4,
 "nbformat_minor": 5
}
